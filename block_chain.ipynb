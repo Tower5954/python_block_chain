{
  "nbformat": 4,
  "nbformat_minor": 0,
  "metadata": {
    "colab": {
      "name": "block_chain.ipynb",
      "provenance": [],
      "toc_visible": true,
      "authorship_tag": "ABX9TyOvOLndZ+JQkOi+lauF58D5",
      "include_colab_link": true
    },
    "kernelspec": {
      "name": "python3",
      "display_name": "Python 3"
    },
    "language_info": {
      "name": "python"
    }
  },
  "cells": [
    {
      "cell_type": "markdown",
      "metadata": {
        "id": "view-in-github",
        "colab_type": "text"
      },
      "source": [
        "<a href=\"https://colab.research.google.com/github/Tower5954/python_block_chain/blob/master/block_chain.ipynb\" target=\"_parent\"><img src=\"https://colab.research.google.com/assets/colab-badge.svg\" alt=\"Open In Colab\"/></a>"
      ]
    },
    {
      "cell_type": "markdown",
      "source": [
        "# Start the block chain application"
      ],
      "metadata": {
        "id": "J838mZzUYY67"
      }
    },
    {
      "cell_type": "markdown",
      "source": [
        "* The `blockchain` is list of `blocks` where each block represents a unit of storage for data. The list is called a chain because each block references the block before it, creating (chain) links between between blocks. In a blockchain that supports a cryptocurrency, blocks store transactions.\n",
        "\n",
        "* A python `module` is a file that contains various Python definitions and statements. For example, the block.py file serves as the block module for the project. The `__name__` value in Python reflects the name of the module it's used within, except when the file is directly executed. When a file is directly executed the __name__ value becomes `__main__`.\n",
        "\n",
        "* `Mining blocks refers to the process of running a computationally expensive algorithm in order to create new blocks for the blockchain. We'll expand on this in the section on Proof of Work.`\n",
        "\n",
        "* The `genesis block` is the first block in the blockchain. Since all blocks must reference the block that came before it, the genesis block serves as a hardcoded starter block for the chain.\n",
        "\n",
        "* `A hashing algorithm generates a unique output for every unique output. In the case of this project, we're using the sha-256 algorithm, which produces a unique 256 character hash in binary, and a 64 character hash in hexadecimal.`\n",
        "\n",
        "* `Encoding is the process of converting data into a particular format (such as the utf-8 format). For example, encoding a string in utf-8, would produce the equivalent byte string in utf-8 characters. Decoding converts the encoded data back into its original form.`\n",
        "\n",
        "* A `lambda` in python is a function that can be declared inline. In the project so far, we've used it for the `map()` method which can transform a list into a new list. The map function's first parameter is a lambda, which defines how to transform each item in the original list to produce the new list."
      ],
      "metadata": {
        "id": "nZDCrdjPYm6Y"
      }
    },
    {
      "cell_type": "markdown",
      "source": [
        "# Test the application"
      ],
      "metadata": {
        "id": "fXMZ1eXAaCX5"
      }
    },
    {
      "cell_type": "code",
      "source": [
        ""
      ],
      "metadata": {
        "id": "Up17EKnDaMZV"
      },
      "execution_count": null,
      "outputs": []
    }
  ]
}