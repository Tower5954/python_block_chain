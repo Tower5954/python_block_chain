{
  "nbformat": 4,
  "nbformat_minor": 0,
  "metadata": {
    "colab": {
      "name": "Dome_coin.ipynb",
      "provenance": [],
      "toc_visible": true,
      "authorship_tag": "ABX9TyNnG0TMwr+8xHG49dhUjrHH",
      "include_colab_link": true
    },
    "kernelspec": {
      "name": "python3",
      "display_name": "Python 3"
    },
    "language_info": {
      "name": "python"
    }
  },
  "cells": [
    {
      "cell_type": "markdown",
      "metadata": {
        "id": "view-in-github",
        "colab_type": "text"
      },
      "source": [
        "<a href=\"https://colab.research.google.com/github/Tower5954/python_block_chain/blob/master/Dome_coin.ipynb\" target=\"_parent\"><img src=\"https://colab.research.google.com/assets/colab-badge.svg\" alt=\"Open In Colab\"/></a>"
      ]
    },
    {
      "cell_type": "markdown",
      "source": [
        "# Start the block chain application"
      ],
      "metadata": {
        "id": "J838mZzUYY67"
      }
    },
    {
      "cell_type": "markdown",
      "source": [
        "* The `blockchain` is list of `blocks` where each block represents a unit of storage for data. The list is called a chain because each block references the block before it, creating (chain) links between between blocks. In a blockchain that supports a cryptocurrency, blocks store transactions.\n",
        "\n",
        "* A python `module` is a file that contains various Python definitions and statements. For example, the block.py file serves as the block module for the project. The `__name__` value in Python reflects the name of the module it's used within, except when the file is directly executed. When a file is directly executed the __name__ value becomes `__main__`.\n",
        "\n",
        "* `Mining blocks refers to the process of running a computationally expensive algorithm in order to create new blocks for the blockchain. We'll expand on this in the section on Proof of Work.`\n",
        "\n",
        "* The `genesis block` is the first block in the blockchain. Since all blocks must reference the block that came before it, the genesis block serves as a hardcoded starter block for the chain.\n",
        "\n",
        "* `A hashing algorithm generates a unique output for every unique output. In the case of this project, we're using the sha-256 algorithm, which produces a unique 256 character hash in binary, and a 64 character hash in hexadecimal.`\n",
        "\n",
        "* `Encoding is the process of converting data into a particular format (such as the utf-8 format). For example, encoding a string in utf-8, would produce the equivalent byte string in utf-8 characters. Decoding converts the encoded data back into its original form.`\n",
        "\n",
        "* A `lambda` in python is a function that can be declared inline. In the project so far, we've used it for the `map()` method which can transform a list into a new list. The map function's first parameter is a lambda, which defines how to transform each item in the original list to produce the new list."
      ],
      "metadata": {
        "id": "nZDCrdjPYm6Y"
      }
    },
    {
      "cell_type": "markdown",
      "source": [
        "# Test the application"
      ],
      "metadata": {
        "id": "fXMZ1eXAaCX5"
      }
    },
    {
      "cell_type": "markdown",
      "source": [
        "In this section, tests were introduced to the project. In that process, a few important topics came up. So here's a list to highlight them:\n",
        "\n",
        "A `virtual environment` allows you to create an isolated space where your project (or a group of projects) can install its external packages. This is especially helpful when you're managing multiple projects on your machine. Often, external packages update their classes and methods when new versions are released. However, separate virtual environments can have different versions of the same package installed - that way, each project can rely on the versions of their dependencies to stay consistent.\n",
        "\n",
        "A package in python allows you to group together related modules. To create a package, create a directory with an `__init__`.py file. Python will then recognize the directory as a package, allowing you to import modules contained in that package with a dot syntax. For example, the blockchain/ directory contains both __init__.py and block.py. This allows other files to import the block module with blockchain.block.\n",
        "\n",
        "The general approach to tests is to create a series of `assert` statements that verify whether or not a value is equal to some other value.\n",
        "\n",
        "\n",
        "\n",
        "***\n",
        "\n"
      ],
      "metadata": {
        "id": "Up17EKnDaMZV"
      }
    },
    {
      "cell_type": "markdown",
      "source": [
        "# Proof of work"
      ],
      "metadata": {
        "id": "CRt8MQwKVGVB"
      }
    },
    {
      "cell_type": "markdown",
      "source": [
        "Proof of work is a mechanism that requires miners to solve a computational puzzle in order to create valid blocks. Solving the puzzle requires a brute-force algorithm that demands CPU power (hence, the analogy of mining the block).\n",
        "\n",
        "The leading 0's requirement is the standard proof of work implementation for finding valid blocks. By adjusting a nonce value in the block, the miner has an infinite number of tries at generating new hashes. Once the miner finds a hash with a matching number of leading 0's as the block difficulty, the fields for valid new block have been found.\n",
        "\n",
        "Dynamic difficulty is a mechanism that increases or decreases the difficulty of the next block based on how long it's taking to mine the new block. If the time is exceeding an established mining rate for the system, the difficulty decreases. Likewise, if the time is still before the mine rate, the difficulty increases. This allows the blockchain to control the rate at which blocks are added.\n",
        "\n",
        "By converting the hashes from their default hexadecimal form to a binary form, a more precise leading 0's requirement can be implemented.\n",
        "\n",
        "Also, here's the completed source code at this point in the course:\n",
        "\n",
        "https://github.com/15Dkatz/python-blockchain-tutorial/tree/b7ff4a98a9b60381ad070f4145963616e42ec80c\n",
        "\n",
        "***\n",
        "\n",
        "With proof of work done, the core of the blockchain data structure itself has been completed. But the true power of a blockchain system kicks in once there are multiple contributors to the blockchain's growth. Likewise, the blockchain becomes secure once there are multiple validators to check the healthiness of new block data. So let's focus on functionality like the validation and replacement of chains in the next section, as we prepare the blockchain for collaboration!"
      ],
      "metadata": {
        "id": "KUNNIAK7N0FD"
      }
    }
  ]
}